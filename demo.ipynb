{
 "cells": [
  {
   "cell_type": "code",
   "execution_count": 2,
   "metadata": {
    "ExecuteTime": {
     "end_time": "2021-12-26T18:27:01.635106Z",
     "start_time": "2021-12-26T18:27:01.198187Z"
    }
   },
   "outputs": [],
   "source": [
    "import numpy as np\n",
    "from scipy.spatial.transform import Rotation as R\n",
    "\n",
    "from pymatgen.core.structure import Lattice, Structure\n",
    "from pymatgen.analysis.structure_analyzer import SpacegroupAnalyzer\n"
   ]
  },
  {
   "cell_type": "code",
   "execution_count": 3,
   "metadata": {
    "ExecuteTime": {
     "end_time": "2021-12-26T18:27:01.643486Z",
     "start_time": "2021-12-26T18:27:01.636275Z"
    }
   },
   "outputs": [],
   "source": [
    "class PerovskiteRotater():\n",
    "    def __init__(self, angels: list, antiphases: list):\n",
    "        self.angels = angels\n",
    "        self.antiphases = antiphases\n",
    "        self.ORIGIN_COORD = np.array([[0.5, 0, 0], [0, 0.5, 0], [0, 0, 0.5]])\n",
    "        self.coords = [self.ORIGIN_COORD.copy() for _ in range(8)]\n",
    "        self.rotated_coords = np.zeros((8, 3, 3))\n",
    "        self.rotate_rules = self._decide_rotate_rules()\n",
    "\n",
    "    def _decide_rotate_rules(self):\n",
    "        rotate_rules = np.array([\n",
    "            [1, 1, 1], [1, -1, -1], [-1, 1, -1], [-1, -1, 1],\n",
    "            [-1, -1, 1], [-1, 1, -1], [1, -1, -1], [1, 1, 1]\n",
    "        ])\n",
    "        for i in range(8):\n",
    "            bin_i = bin(i)[2:].zfill(3)[::-1]\n",
    "            for j, bit in enumerate(bin_i):\n",
    "                # a, minus\n",
    "                if j == 0 and bit == '1' and self.antiphases[0] == True:\n",
    "                    rotate_rules[i][j] *= -1\n",
    "                # b, minus\n",
    "                if j == 1 and bit == '1' and self.antiphases[1] == True:\n",
    "                    rotate_rules[i][j] *= -1\n",
    "                # c, minus\n",
    "                if j == 2 and bit == '1' and self.antiphases[2] == True:\n",
    "                    rotate_rules[i][j] *= -1\n",
    "        return rotate_rules\n",
    "\n",
    "    def _rotate_unit(self, rotate_rule, coord):\n",
    "        rotater = R.from_euler('XYZ', rotate_rule*self.angels, degrees=True)\n",
    "        return rotater.apply(coord)\n",
    "\n",
    "    def _merge_coords(self, coords):\n",
    "        rep_coords = np.full((8, 3, 3), 0.5)\n",
    "        for i in range(8):\n",
    "            bin_i = bin(i)[2:].zfill(3)[::-1]\n",
    "            shift = np.array([int(bin_i[0]), int(bin_i[1]), int(bin_i[2])])\n",
    "            rep_coords[i] = rep_coords[i] + coords[i] + shift\n",
    "        return np.concatenate([rep_coords[j] for j in range(8)])\n",
    "\n",
    "    def rotate(self):\n",
    "        for i in range(8):\n",
    "            rotate_rule = self.rotate_rules[i]\n",
    "            coord = self.coords[i]\n",
    "            self.rotated_coords[i] = self._rotate_unit(rotate_rule, coord)\n",
    "        return self._merge_coords(self.rotated_coords)\n",
    "\n",
    "\n",
    "def get_abx1x2_rotated_structure(pr: PerovskiteRotater, elements: list) -> Structure:\n",
    "    lattice = Lattice.from_parameters(a=4, b=4, c=4,\n",
    "                                      alpha=90, beta=90, gamma=90)\n",
    "    A_B_SITE_COORD = np.array([\n",
    "        # A site\n",
    "        [0, 0, 0], [0, 2, 0], [2, 0, 0], [2, 2, 0],\n",
    "        [0, 0, 2], [2, 0, 2], [0, 2, 2], [2, 2, 2],\n",
    "        # B site\n",
    "        [1, 1, 1], [3, 1, 1], [1, 3, 1], [3, 3, 1],\n",
    "        [1, 1, 3], [1, 3, 3], [3, 1, 3], [3, 3, 3],\n",
    "    ])\n",
    "    coords = np.concatenate([A_B_SITE_COORD, pr.rotate()*2])\n",
    "    a, b, x1, x2 = elements\n",
    "    species = [a] * 8 + [b] * 8 + [x2, x2, x1] * 8\n",
    "    return Structure(lattice=lattice, species=species,\n",
    "                     coords=coords, coords_are_cartesian=True)\n"
   ]
  },
  {
   "cell_type": "code",
   "execution_count": 4,
   "metadata": {
    "ExecuteTime": {
     "end_time": "2021-12-26T18:33:16.988996Z",
     "start_time": "2021-12-26T18:33:16.915304Z"
    }
   },
   "outputs": [
    {
     "name": "stderr",
     "output_type": "stream",
     "text": [
      "test_a0_a0_a0 (__main__.TestPerovskiteRotater) ... ok\n",
      "test_a0_bp_cp (__main__.TestPerovskiteRotater) ... ok\n",
      "test_am_am_am (__main__.TestPerovskiteRotater) ... ok\n",
      "test_am_bm_cm (__main__.TestPerovskiteRotater) ... ok\n",
      "test_ap_bp_cp (__main__.TestPerovskiteRotater) ... ok\n",
      "\n",
      "----------------------------------------------------------------------\n",
      "Ran 5 tests in 0.036s\n",
      "\n",
      "OK\n"
     ]
    },
    {
     "data": {
      "text/plain": [
       "<unittest.main.TestProgram at 0x1292339d0>"
      ]
     },
     "execution_count": 4,
     "metadata": {},
     "output_type": "execute_result"
    }
   ],
   "source": [
    "import unittest\n",
    "\n",
    "\n",
    "class TestPerovskiteRotater(unittest.TestCase):\n",
    "    def setUp(self):\n",
    "        self.elements = ['Ba', 'Ti', 'O', 'O']\n",
    "\n",
    "    def test_a0_a0_a0(self):\n",
    "        pr = PerovskiteRotater(angels=[0, 0, 0], antiphases=[\n",
    "                               False, False, False])\n",
    "        s = get_abx1x2_rotated_structure(pr, self.elements)\n",
    "        \n",
    "        expected = 'Pm-3m'  # 221\n",
    "        actual = SpacegroupAnalyzer(s).get_space_group_symbol()\n",
    "        self.assertEqual(expected, actual)\n",
    "\n",
    "    def test_am_am_am(self):\n",
    "        pr = PerovskiteRotater(angels=[1, 1, 1], antiphases=[True, True, True])\n",
    "        s = get_abx1x2_rotated_structure(pr, self.elements)\n",
    "        expected = 'R-3c'  # 167\n",
    "        actual = SpacegroupAnalyzer(s).get_space_group_symbol()\n",
    "        self.assertEqual(expected, actual)\n",
    "\n",
    "    def test_ap_bp_cp(self):\n",
    "        pr = PerovskiteRotater(angels=[1, 2, 3], antiphases=[\n",
    "                               False, False, False])\n",
    "        s = get_abx1x2_rotated_structure(pr, self.elements)\n",
    "        expected = 'Immm'  # 71\n",
    "        actual = SpacegroupAnalyzer(s).get_space_group_symbol()\n",
    "        self.assertEqual(expected, actual)\n",
    "\n",
    "    def test_a0_bp_cp(self):\n",
    "        pr = PerovskiteRotater(angels=[0, 2, 3], antiphases=[\n",
    "                               False, False, True])\n",
    "        s = get_abx1x2_rotated_structure(pr, self.elements)\n",
    "        expected = 'Cmcm'  # 63\n",
    "        actual = SpacegroupAnalyzer(s).get_space_group_symbol()\n",
    "        self.assertEqual(expected, actual)\n",
    "\n",
    "    def test_am_bm_cm(self):\n",
    "        pr = PerovskiteRotater(angels=[1, 2, 3], antiphases=[True, True, True])\n",
    "        s = get_abx1x2_rotated_structure(pr, self.elements)\n",
    "        expected = 'P-1'  # 2\n",
    "        actual = SpacegroupAnalyzer(s).get_space_group_symbol()\n",
    "        self.assertEqual(expected, actual)\n",
    "\n",
    "\n",
    "unittest.main(argv=[''], verbosity=2, exit=False)\n"
   ]
  }
 ],
 "metadata": {
  "kernelspec": {
   "display_name": "Python 3",
   "language": "python",
   "name": "python3"
  },
  "language_info": {
   "codemirror_mode": {
    "name": "ipython",
    "version": 3
   },
   "file_extension": ".py",
   "mimetype": "text/x-python",
   "name": "python",
   "nbconvert_exporter": "python",
   "pygments_lexer": "ipython3",
   "version": "3.9.7"
  }
 },
 "nbformat": 4,
 "nbformat_minor": 4
}
